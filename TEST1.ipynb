{
 "cells": [
  {
   "cell_type": "code",
   "execution_count": 43,
   "metadata": {},
   "outputs": [
    {
     "name": "stdout",
     "output_type": "stream",
     "text": [
      "\n",
      "*********************************************************************************************************\n",
      "* Python script to calculate GC content from a given fasta file\t\t\t\t\t\t*\n",
      "* Script Developed by\t:\tRam Sai Nanduri\t\t\t\t\t\t\t\t*\n",
      "*********************************************************************************************************\n"
     ]
    },
    {
     "name": "stderr",
     "output_type": "stream",
     "text": [
      "usage: ipykernel_launcher.py [-h] [-f fasta] [-v]\n",
      "ipykernel_launcher.py: error: unrecognized arguments: S R Y . f a s t a\n"
     ]
    },
    {
     "ename": "SystemExit",
     "evalue": "2",
     "output_type": "error",
     "traceback": [
      "An exception has occurred, use %tb to see the full traceback.\n",
      "\u001b[0;31mSystemExit\u001b[0m\u001b[0;31m:\u001b[0m 2\n"
     ]
    },
    {
     "name": "stderr",
     "output_type": "stream",
     "text": [
      "/usr/lib/python3/dist-packages/IPython/core/interactiveshell.py:2890: UserWarning: To exit: use 'exit', 'quit', or Ctrl-D.\n",
      "  warn(\"To exit: use 'exit', 'quit', or Ctrl-D.\", stacklevel=1)\n"
     ]
    }
   ],
   "source": [
    "import os\n",
    "import sys\n",
    "import argparse\n",
    "#Developer Info\n",
    "print (\"\\n*********************************************************************************************************\")\n",
    "print (\"* Python script to calculate GC content from a given fasta file\\t\\t\\t\\t\\t\\t*\")\n",
    "print (\"* Script Developed by\\t:\\tRam Sai Nanduri\\t\\t\\t\\t\\t\\t\\t\\t*\")\n",
    "print (\"*********************************************************************************************************\")\n",
    "##Argument parser\n",
    "parser = argparse.ArgumentParser(description=\"Calculate GC content.\")\n",
    "parser.add_argument(\"-f\", \"--fasta\", metavar=\"fasta\", help=\"Input fasta file\", type=str)\n",
    "parser.add_argument(\"-v\", \"--version\", help=\"Program's version\", action='version', version='%(prog)s 1.0')\n",
    "args = parser.parse_args()\n",
    "in_file = args.fasta\n",
    "file_name = os.path.basename('SRY.fasta').split('.')[0]\n",
    "file_path = os.path.abspath(os.path.dirname(in_file))\n",
    "try:\n",
    "\twith open(in_file, \"r\") as fa:\n",
    "\t    lines=fa.read().split('\\n')\n",
    "\t    header = lines[0][1:]\n",
    "\t    seq = lines[1:]\n",
    "\t    seq = ''.join(seq).upper()\n",
    "\t    print (\"\\nInput Sequence Id\\t:\\t\"+header)\n",
    "\t    Acnt = seq.count(\"A\")\n",
    "\t    Tcnt = seq.count(\"T\")\n",
    "\t    Gcnt = seq.count(\"G\")\n",
    "\t    Ccnt = seq.count(\"C\")\n",
    "\t    gc_content = round(float(Gcnt+Ccnt)/float(Acnt+Tcnt+Gcnt+Ccnt)*100,2)\n",
    "\t    result = str(gc_content)+\"%\"\n",
    "\tprint (\"\\nGC content for the given DNA sequence is \"+str(gc_content)+\"%\\n\")\n",
    "\tout_file=open(file_path+\"/\"+file_name+\"_GC_content.txt\", \"w\")\n",
    "\tout_file.write(\"Sequence ID\\t:\\t\"+header+\"\\n\\nCounts of A\\t:\\t\"+str(Acnt)+\"\\n\\nCounts of T\\t:\\t\"+str(Tcnt)+\"\\n\\nCounts of G\\t:\\t\"+str(Gcnt)+\"\\n\\nCounts of C\\t:\\t\"+str(Ccnt)+\"\\n\\nGC Content\\t:\\t\"+result)\n",
    "\tout_file.close()\n",
    "except:\n",
    "\tsys.exit(\"Opps..either file is not present or file format is not correct\")\n"
   ]
  },
  {
   "cell_type": "code",
   "execution_count": null,
   "metadata": {},
   "outputs": [],
   "source": []
  }
 ],
 "metadata": {
  "kernelspec": {
   "display_name": "Python 3",
   "language": "python",
   "name": "python3"
  },
  "language_info": {
   "codemirror_mode": {
    "name": "ipython",
    "version": 3
   },
   "file_extension": ".py",
   "mimetype": "text/x-python",
   "name": "python",
   "nbconvert_exporter": "python",
   "pygments_lexer": "ipython3",
   "version": "3.6.9"
  }
 },
 "nbformat": 4,
 "nbformat_minor": 4
}
